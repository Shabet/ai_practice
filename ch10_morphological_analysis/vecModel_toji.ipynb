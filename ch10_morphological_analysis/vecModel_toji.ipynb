{
 "cells": [
  {
   "cell_type": "code",
   "execution_count": 23,
   "metadata": {},
   "outputs": [],
   "source": [
    "from gensim.models import word2vec"
   ]
  },
  {
   "cell_type": "code",
   "execution_count": 24,
   "metadata": {},
   "outputs": [],
   "source": [
    "model = word2vec.Word2Vec.load(\"toji.model\")"
   ]
  },
  {
   "cell_type": "code",
   "execution_count": 14,
   "metadata": {},
   "outputs": [
    {
     "data": {
      "text/plain": [
       "[('오가다', 0.9264740943908691),\n",
       " ('터', 0.918575644493103),\n",
       " ('핏발', 0.9161177277565002),\n",
       " ('항상', 0.911588191986084),\n",
       " ('나누다', 0.9095638394355774),\n",
       " ('실상', 0.9091974496841431),\n",
       " ('아침나절', 0.9090669751167297),\n",
       " ('오광', 0.9088727831840515),\n",
       " ('파괴', 0.9085291028022766),\n",
       " ('얼마간', 0.9084985852241516)]"
      ]
     },
     "execution_count": 14,
     "metadata": {},
     "output_type": "execute_result"
    }
   ],
   "source": [
    "model.wv.most_similar(positive=\"인사\")"
   ]
  },
  {
   "cell_type": "code",
   "execution_count": 49,
   "metadata": {},
   "outputs": [
    {
     "data": {
      "text/plain": [
       "[('나쁘다', 0.8687370419502258),\n",
       " ('제일', 0.8656623363494873),\n",
       " ('사정', 0.8583762645721436),\n",
       " ('인연', 0.8555260896682739),\n",
       " ('디', 0.8539579510688782),\n",
       " ('치부', 0.8493106961250305),\n",
       " ('재미', 0.8483679890632629),\n",
       " ('부실하다', 0.8428260087966919),\n",
       " ('쓸개', 0.8412911891937256),\n",
       " ('무상', 0.840645968914032)]"
      ]
     },
     "execution_count": 49,
     "metadata": {},
     "output_type": "execute_result"
    }
   ],
   "source": [
    "model.wv.most_similar(positive=\"사람\")"
   ]
  },
  {
   "cell_type": "code",
   "execution_count": 52,
   "metadata": {},
   "outputs": [
    {
     "data": {
      "text/plain": [
       "[('소꿉', 0.8225437998771667),\n",
       " ('물리다', 0.7977822422981262),\n",
       " ('광주리', 0.7958106994628906),\n",
       " ('풀다', 0.793442964553833),\n",
       " ('어둑어둑하다', 0.7867310047149658),\n",
       " ('노', 0.7858346700668335),\n",
       " ('떠들다', 0.7850357890129089),\n",
       " ('지락', 0.7836593985557556),\n",
       " ('민적', 0.7824353575706482),\n",
       " ('구경꾼', 0.7810779809951782)]"
      ]
     },
     "execution_count": 52,
     "metadata": {},
     "output_type": "execute_result"
    }
   ],
   "source": [
    "model.wv.most_similar(positive=\"아이\")"
   ]
  }
 ],
 "metadata": {
  "kernelspec": {
   "display_name": "Python 3",
   "language": "python",
   "name": "python3"
  },
  "language_info": {
   "codemirror_mode": {
    "name": "ipython",
    "version": 3
   },
   "file_extension": ".py",
   "mimetype": "text/x-python",
   "name": "python",
   "nbconvert_exporter": "python",
   "pygments_lexer": "ipython3",
   "version": "3.11.0"
  },
  "orig_nbformat": 4
 },
 "nbformat": 4,
 "nbformat_minor": 2
}
